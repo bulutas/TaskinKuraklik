{
  "nbformat": 4,
  "nbformat_minor": 0,
  "metadata": {
    "colab": {
      "name": "kuraklıkodev2.ipynb",
      "provenance": [],
      "collapsed_sections": [],
      "toc_visible": true
    },
    "kernelspec": {
      "name": "python3",
      "display_name": "Python 3"
    },
    "language_info": {
      "name": "python"
    }
  },
  "cells": [
    {
      "cell_type": "markdown",
      "metadata": {
        "id": "0N2lMc_fSANz"
      },
      "source": [
        "#**2. KURAKLIK ANALİZİ**"
      ]
    },
    {
      "cell_type": "code",
      "metadata": {
        "id": "6KnsZLeO8-ue",
        "colab": {
          "base_uri": "https://localhost:8080/"
        },
        "outputId": "69a0c9d6-0462-4c4c-856b-bf5fa60cb70c"
      },
      "source": [
        "#Gerekli Kütüphaneler yüklendi. \n",
        "import numpy as np\n",
        "import pandas as pd\n",
        "import scipy.stats as stats\n",
        "import statsmodels.tsa.stattools as sta  \n",
        "import matplotlib.pyplot as plt\n",
        "import seaborn as sns\n",
        "import statsmodels.api as sm \n",
        "from sklearn.linear_model import LinearRegression\n",
        "!pip install pymannkendall \n",
        "import pymannkendall as mk\n",
        "import math"
      ],
      "execution_count": 1,
      "outputs": [
        {
          "output_type": "stream",
          "text": [
            "/usr/local/lib/python3.7/dist-packages/statsmodels/tools/_testing.py:19: FutureWarning: pandas.util.testing is deprecated. Use the functions in the public API at pandas.testing instead.\n",
            "  import pandas.util.testing as tm\n"
          ],
          "name": "stderr"
        },
        {
          "output_type": "stream",
          "text": [
            "Collecting pymannkendall\n",
            "  Downloading https://files.pythonhosted.org/packages/03/72/7eeda485b586ddaaa274225bb2aa365f3a24c94790283d7c230bcecbb28e/pymannkendall-1.4.2-py3-none-any.whl\n",
            "Requirement already satisfied: numpy in /usr/local/lib/python3.7/dist-packages (from pymannkendall) (1.19.5)\n",
            "Requirement already satisfied: scipy in /usr/local/lib/python3.7/dist-packages (from pymannkendall) (1.4.1)\n",
            "Installing collected packages: pymannkendall\n",
            "Successfully installed pymannkendall-1.4.2\n"
          ],
          "name": "stdout"
        }
      ]
    },
    {
      "cell_type": "markdown",
      "metadata": {
        "id": "-0SZBpmRDBdM"
      },
      "source": [
        "## 2.1 Verinin hazırlanması Ve Görüntülenmesi"
      ]
    },
    {
      "cell_type": "code",
      "metadata": {
        "id": "LJiXMg9vLGcF"
      },
      "source": [
        "minDebi=[2.14,1.62,1.71,1.37,1.62,1.95,1.54,1.71,1.95,2.2,1.95,1.95,1.78,1.7,1.86,2.13,0.099,1.45,1.09,1.07,0.946,1.20,1.79,1.81,1.50]\n",
        "\n"
      ],
      "execution_count": 2,
      "outputs": []
    },
    {
      "cell_type": "markdown",
      "metadata": {
        "id": "gnTO8LfXCz_K"
      },
      "source": [
        "### 7 Günlük minimumm akımların belirlenmesi"
      ]
    },
    {
      "cell_type": "code",
      "metadata": {
        "id": "ol9p3x0Ex954"
      },
      "source": [
        "DF=pd.read_csv(\"concattt.csv\") #Günlük Ortalama akışlar bütün yılların tabloları yanyana getirilerek import edildi.\n",
        "#Her bir kolon, kronolojik olarak sıralı su yılının  aylarına denk gelmektedir."
      ],
      "execution_count": 3,
      "outputs": []
    },
    {
      "cell_type": "code",
      "metadata": {
        "id": "c3YuaFQ9ThFw"
      },
      "source": [
        "#su yılı tablosunun bütün ay kolonları alt alta yazıldı.\n",
        "oneCol=[]\n",
        "colLength=DF.shape[1]\n",
        "for k in range(0,colLength):\n",
        "  oneCol.append(DF.iloc[:,k])\n",
        "\n",
        "df1 = pd.concat(oneCol, ignore_index=True)\n",
        "df1=df1.dropna()\n",
        "\n",
        "df1=pd.DataFrame(df1.values)"
      ],
      "execution_count": 4,
      "outputs": []
    },
    {
      "cell_type": "code",
      "metadata": {
        "id": "PAhEB9QaeZva"
      },
      "source": [
        "Q=[]\n",
        "#1 haftalık ortalamalar baştan sona bütün seriye uygulandı.\n",
        "for i in range(len(df1)-7):\n",
        "  toplam=[]\n",
        "  for j in range(7):\n",
        "      toplam.append(df1.iloc[i+j,0])\n",
        "  Q.append(sum(toplam)/len(toplam))\n",
        "\n",
        "Q=pd.Series(Q)\n",
        "\n",
        "#Her bir yılın 7 günlük ortalama  minimum değerleri bulundu.\n",
        "Q_7=[]\n",
        "for i in range(25): # 25 yıl için\n",
        "  Q_7.append(Q[(0+365*i):((358-1)+365*i)].min())\n",
        "\n"
      ],
      "execution_count": 5,
      "outputs": []
    },
    {
      "cell_type": "code",
      "metadata": {
        "id": "t6qOYGytjP2s",
        "colab": {
          "base_uri": "https://localhost:8080/",
          "height": 834
        },
        "outputId": "e47e758f-2596-4649-d5a4-5218a61f26bf"
      },
      "source": [
        "yıl=(range(1988,2013))\n",
        "tablo = {'Yıl':yıl,\n",
        "    '1 Günlük Min': minDebi,\n",
        "        '7 Günlük Min': Q_7\n",
        "         }\n",
        "tablo=pd.DataFrame(tablo)\n",
        "tablo"
      ],
      "execution_count": 6,
      "outputs": [
        {
          "output_type": "execute_result",
          "data": {
            "text/html": [
              "<div>\n",
              "<style scoped>\n",
              "    .dataframe tbody tr th:only-of-type {\n",
              "        vertical-align: middle;\n",
              "    }\n",
              "\n",
              "    .dataframe tbody tr th {\n",
              "        vertical-align: top;\n",
              "    }\n",
              "\n",
              "    .dataframe thead th {\n",
              "        text-align: right;\n",
              "    }\n",
              "</style>\n",
              "<table border=\"1\" class=\"dataframe\">\n",
              "  <thead>\n",
              "    <tr style=\"text-align: right;\">\n",
              "      <th></th>\n",
              "      <th>Yıl</th>\n",
              "      <th>1 Günlük Min</th>\n",
              "      <th>7 Günlük Min</th>\n",
              "    </tr>\n",
              "  </thead>\n",
              "  <tbody>\n",
              "    <tr>\n",
              "      <th>0</th>\n",
              "      <td>1988</td>\n",
              "      <td>2.140</td>\n",
              "      <td>2.140000</td>\n",
              "    </tr>\n",
              "    <tr>\n",
              "      <th>1</th>\n",
              "      <td>1989</td>\n",
              "      <td>1.620</td>\n",
              "      <td>1.620000</td>\n",
              "    </tr>\n",
              "    <tr>\n",
              "      <th>2</th>\n",
              "      <td>1990</td>\n",
              "      <td>1.710</td>\n",
              "      <td>1.734286</td>\n",
              "    </tr>\n",
              "    <tr>\n",
              "      <th>3</th>\n",
              "      <td>1991</td>\n",
              "      <td>1.370</td>\n",
              "      <td>1.688571</td>\n",
              "    </tr>\n",
              "    <tr>\n",
              "      <th>4</th>\n",
              "      <td>1992</td>\n",
              "      <td>1.620</td>\n",
              "      <td>2.200000</td>\n",
              "    </tr>\n",
              "    <tr>\n",
              "      <th>5</th>\n",
              "      <td>1993</td>\n",
              "      <td>1.950</td>\n",
              "      <td>1.950000</td>\n",
              "    </tr>\n",
              "    <tr>\n",
              "      <th>6</th>\n",
              "      <td>1994</td>\n",
              "      <td>1.540</td>\n",
              "      <td>1.564286</td>\n",
              "    </tr>\n",
              "    <tr>\n",
              "      <th>7</th>\n",
              "      <td>1995</td>\n",
              "      <td>1.710</td>\n",
              "      <td>1.710000</td>\n",
              "    </tr>\n",
              "    <tr>\n",
              "      <th>8</th>\n",
              "      <td>1996</td>\n",
              "      <td>1.950</td>\n",
              "      <td>2.200000</td>\n",
              "    </tr>\n",
              "    <tr>\n",
              "      <th>9</th>\n",
              "      <td>1997</td>\n",
              "      <td>2.200</td>\n",
              "      <td>2.450000</td>\n",
              "    </tr>\n",
              "    <tr>\n",
              "      <th>10</th>\n",
              "      <td>1998</td>\n",
              "      <td>1.950</td>\n",
              "      <td>2.200000</td>\n",
              "    </tr>\n",
              "    <tr>\n",
              "      <th>11</th>\n",
              "      <td>1999</td>\n",
              "      <td>1.950</td>\n",
              "      <td>2.200000</td>\n",
              "    </tr>\n",
              "    <tr>\n",
              "      <th>12</th>\n",
              "      <td>2000</td>\n",
              "      <td>1.780</td>\n",
              "      <td>1.950000</td>\n",
              "    </tr>\n",
              "    <tr>\n",
              "      <th>13</th>\n",
              "      <td>2001</td>\n",
              "      <td>1.700</td>\n",
              "      <td>1.860000</td>\n",
              "    </tr>\n",
              "    <tr>\n",
              "      <th>14</th>\n",
              "      <td>2002</td>\n",
              "      <td>1.860</td>\n",
              "      <td>1.860000</td>\n",
              "    </tr>\n",
              "    <tr>\n",
              "      <th>15</th>\n",
              "      <td>2003</td>\n",
              "      <td>2.130</td>\n",
              "      <td>2.154286</td>\n",
              "    </tr>\n",
              "    <tr>\n",
              "      <th>16</th>\n",
              "      <td>2004</td>\n",
              "      <td>0.099</td>\n",
              "      <td>0.205571</td>\n",
              "    </tr>\n",
              "    <tr>\n",
              "      <th>17</th>\n",
              "      <td>2005</td>\n",
              "      <td>1.450</td>\n",
              "      <td>0.806857</td>\n",
              "    </tr>\n",
              "    <tr>\n",
              "      <th>18</th>\n",
              "      <td>2006</td>\n",
              "      <td>1.090</td>\n",
              "      <td>1.200000</td>\n",
              "    </tr>\n",
              "    <tr>\n",
              "      <th>19</th>\n",
              "      <td>2007</td>\n",
              "      <td>1.070</td>\n",
              "      <td>1.144286</td>\n",
              "    </tr>\n",
              "    <tr>\n",
              "      <th>20</th>\n",
              "      <td>2008</td>\n",
              "      <td>0.946</td>\n",
              "      <td>1.052286</td>\n",
              "    </tr>\n",
              "    <tr>\n",
              "      <th>21</th>\n",
              "      <td>2009</td>\n",
              "      <td>1.200</td>\n",
              "      <td>1.285714</td>\n",
              "    </tr>\n",
              "    <tr>\n",
              "      <th>22</th>\n",
              "      <td>2010</td>\n",
              "      <td>1.790</td>\n",
              "      <td>1.790000</td>\n",
              "    </tr>\n",
              "    <tr>\n",
              "      <th>23</th>\n",
              "      <td>2011</td>\n",
              "      <td>1.810</td>\n",
              "      <td>2.090000</td>\n",
              "    </tr>\n",
              "    <tr>\n",
              "      <th>24</th>\n",
              "      <td>2012</td>\n",
              "      <td>1.500</td>\n",
              "      <td>1.640000</td>\n",
              "    </tr>\n",
              "  </tbody>\n",
              "</table>\n",
              "</div>"
            ],
            "text/plain": [
              "     Yıl  1 Günlük Min  7 Günlük Min\n",
              "0   1988         2.140      2.140000\n",
              "1   1989         1.620      1.620000\n",
              "2   1990         1.710      1.734286\n",
              "3   1991         1.370      1.688571\n",
              "4   1992         1.620      2.200000\n",
              "5   1993         1.950      1.950000\n",
              "6   1994         1.540      1.564286\n",
              "7   1995         1.710      1.710000\n",
              "8   1996         1.950      2.200000\n",
              "9   1997         2.200      2.450000\n",
              "10  1998         1.950      2.200000\n",
              "11  1999         1.950      2.200000\n",
              "12  2000         1.780      1.950000\n",
              "13  2001         1.700      1.860000\n",
              "14  2002         1.860      1.860000\n",
              "15  2003         2.130      2.154286\n",
              "16  2004         0.099      0.205571\n",
              "17  2005         1.450      0.806857\n",
              "18  2006         1.090      1.200000\n",
              "19  2007         1.070      1.144286\n",
              "20  2008         0.946      1.052286\n",
              "21  2009         1.200      1.285714\n",
              "22  2010         1.790      1.790000\n",
              "23  2011         1.810      2.090000\n",
              "24  2012         1.500      1.640000"
            ]
          },
          "metadata": {
            "tags": []
          },
          "execution_count": 6
        }
      ]
    },
    {
      "cell_type": "code",
      "metadata": {
        "id": "EFVNIenxneAV",
        "colab": {
          "base_uri": "https://localhost:8080/",
          "height": 461
        },
        "outputId": "81be9841-459a-4d5c-ac78-b40c3c613436"
      },
      "source": [
        "plt.figure(figsize=(10, 5), dpi=100)\n",
        "plt.rcParams.update({'font.size': 15})\n",
        "plt.scatter(tablo[\"Yıl\"],tablo['1 Günlük Min'],label='1 Günlük Min');plt.grid()\n",
        "plt.scatter(tablo['Yıl'],tablo['7 Günlük Min'],label='7 Günlük Min')\n",
        "plt.legend()"
      ],
      "execution_count": 7,
      "outputs": [
        {
          "output_type": "execute_result",
          "data": {
            "text/plain": [
              "<matplotlib.legend.Legend at 0x7fb91cad2c10>"
            ]
          },
          "metadata": {
            "tags": []
          },
          "execution_count": 7
        },
        {
          "output_type": "display_data",
          "data": {
            "image/png": "[encoded data removed]",
            "text/plain": [
              "<Figure size 1000x500 with 1 Axes>"
            ]
          },
          "metadata": {
            "tags": [],
            "needs_background": "light"
          }
        }
      ]
    },
    {
      "cell_type": "markdown",
      "metadata": {
        "id": "HcDA_XP5XhOq"
      },
      "source": [
        "Serini bazı istastistik parametreleri aşağıdaki gibidir:"
      ]
    },
    {
      "cell_type": "code",
      "metadata": {
        "id": "6MWjPN0qjUaa",
        "colab": {
          "base_uri": "https://localhost:8080/"
        },
        "outputId": "2445ef18-bd0d-4f71-aead-23d0cf701027"
      },
      "source": [
        "veri=tablo['7 Günlük Min']\n",
        "veri.describe()"
      ],
      "execution_count": 8,
      "outputs": [
        {
          "output_type": "execute_result",
          "data": {
            "text/plain": [
              "count    25.000000\n",
              "mean      1.707846\n",
              "std       0.520743\n",
              "min       0.205571\n",
              "25%       1.564286\n",
              "50%       1.790000\n",
              "75%       2.140000\n",
              "max       2.450000\n",
              "Name: 7 Günlük Min, dtype: float64"
            ]
          },
          "metadata": {
            "tags": []
          },
          "execution_count": 8
        }
      ]
    },
    {
      "cell_type": "code",
      "metadata": {
        "id": "fV2WZDuN4-zs"
      },
      "source": [
        "mean=veri.mean()\n",
        "std=veri.std()\n",
        "min=veri.min()\n",
        "max=veri.max()\n",
        "median=veri.median()\n",
        "N=len(veri)\n"
      ],
      "execution_count": 9,
      "outputs": []
    },
    {
      "cell_type": "markdown",
      "metadata": {
        "id": "Kfnb4CV2joYP"
      },
      "source": [
        "##2.2 Frekansın Hesaplanması"
      ]
    },
    {
      "cell_type": "code",
      "metadata": {
        "id": "-d5xprpb41FC"
      },
      "source": [
        "y=pd.Series((25,24,23,22,21,20,19,18,17,16,15,14,13,12,11,10,9,8,7,6,5,4,3,2,1))"
      ],
      "execution_count": null,
      "outputs": []
    },
    {
      "cell_type": "code",
      "metadata": {
        "id": "L2FB6TXomfnJ"
      },
      "source": [
        "mi=tablo['7 Günlük Min'].sort_values( inplace=False, ascending=False)\n",
        "mii=tablo['1 Günlük Min'].sort_values( inplace=False, ascending=False)\n",
        "a=0.375\n",
        "T=(25+1-2*a)/(y-a)\n",
        "plt.figure(figsize=(10, 5), dpi=100)\n",
        "plt.rcParams.update({'font.size': 15})\n",
        "plt.plot(T,mi,label='7 Günlük Min')\n",
        "plt.plot(T,mii,label='1 Günlük Min')\n",
        "plt.xlabel(\"T(yıl)\")\n",
        "plt.ylabel(\"Debi($m^3$/s) \")\n",
        "plt.title(\"Frekans\")\n",
        "plt.legend()\n",
        "\n"
      ],
      "execution_count": null,
      "outputs": []
    },
    {
      "cell_type": "markdown",
      "metadata": {
        "id": "Ce2wBaeQuSDj"
      },
      "source": [
        "##2.2 Trend Analizi\n"
      ]
    },
    {
      "cell_type": "markdown",
      "metadata": {
        "id": "oA0_zoNbYK2v"
      },
      "source": [
        "Zaman serisine Mann-Kendaltrend testi uygulanmıştır. "
      ]
    },
    {
      "cell_type": "code",
      "metadata": {
        "id": "RESyhVmNtW0M"
      },
      "source": [
        "#  Mann-Kendal Testini içeren pymannkendal kütüphanesi kullanıldı.  \n",
        "# Kütüphane dökümanları incelendi. Formüllerin ders notundakilerle aynı olduğu görüldü.\n",
        "data=veri\n",
        "mk.original_test(data)# Mann-Kendal Trend Analizi fonksiyonu uygulanmıştır.\n",
        "trend, h, p, z, Tau, s, var_s, slope, intercept= mk.hamed_rao_modification_test(data,) # çıktı değerleri değişkene atandı.\n",
        "print(\"#################MANN-KENDAL TESTİ SONUÇ#################\")\n",
        "print(\"Trend:\",trend) #Trend \n",
        "print(\"Z değeri:\",z) #Z Değeri\n",
        "print(\"Tau değeri:\",Tau)\n",
        "print(\"sigma:\",np.sqrt(var_s))\n",
        "print(\"S:\",s)"
      ],
      "execution_count": null,
      "outputs": []
    },
    {
      "cell_type": "markdown",
      "metadata": {
        "id": "dgZNJztOb0gz"
      },
      "source": [
        "###2.2.1 İç Bağımlılığın Etkisinin Giderilmesi"
      ]
    },
    {
      "cell_type": "markdown",
      "metadata": {
        "id": "BQ1Kd2iKU_XA"
      },
      "source": [
        "Zaman serisinde iç bağımlılık olup olmadığını belirlemek için zaman    serisinin    1 aralıklı  serisel korelasyon  katsayısı testte dikkate alınmalıdır. "
      ]
    },
    {
      "cell_type": "code",
      "metadata": {
        "id": "S0EClPaHq1P7"
      },
      "source": [
        "#  Mann-Kendal Testini içeren pymannkendal kütüphanesi kullanıldı.  \n",
        "# Kütüphane dökümanları incelendi. Formüllerin ders notundakilerle aynı olduğu görüldü.\n",
        "#Otokorelasyon 1 aralıklı olarak hesaplanmıştır.\n",
        "def __acf(x, nlags):\n",
        "    y = x - x.mean()\n",
        "    n = len(x)\n",
        "    d = n * np.ones(2 * n - 1)\n",
        "    \n",
        "    acov = (np.correlate(y, y, 'full') / d)[n - 1:]\n",
        "    \n",
        "    return acov[:nlags+1]/acov[0]\n",
        "print(\"Otokorelasyon Katsayısı:\",__acf(veri,1)[1],\"olarak hesaplandı\")  "
      ],
      "execution_count": null,
      "outputs": []
    },
    {
      "cell_type": "code",
      "metadata": {
        "id": "vUqDG4Ecn38T"
      },
      "source": [
        "#  Mann-Kendal Testini içeren pymannkendal kütüphanesi kullanıldı.  \n",
        "# Kütüphane dökümanları incelendi. Formüllerin ders notundakilerle aynı olduğu görüldü.\n",
        "data=veri\n",
        "mk.hamed_rao_modification_test(data,lag=1) #1 zaman aralıklı otokorelasyon dikkate alındı ve test uygulandı.\n",
        "trend, h, p, z, Tau, s, var_s, slope, intercept= mk.hamed_rao_modification_test(data,lag=1) # çıktı değerleri değişkene atandı.\n",
        "print(\"#################MANN-KENDAL TESTİ SONUÇ#################\")\n",
        "print(\"Trend:\",trend) #Trend \n",
        "print(\"Z değeri:\",z) #Z Değeri\n",
        "print(\"Tau değeri:\",Tau)\n",
        "print(\"sigma:\",np.sqrt(var_s))\n",
        "print(\"S:\",s)"
      ],
      "execution_count": null,
      "outputs": []
    },
    {
      "cell_type": "markdown",
      "metadata": {
        "id": "lScqsiSkY8cp"
      },
      "source": [
        "###2.2.1 İç bağımlılığın etkisinin giderilmesi(Yue,Wang) Ve Man-Kendall Testinin uygulanması"
      ]
    },
    {
      "cell_type": "markdown",
      "metadata": {
        "id": "6kkXE5z_wuHF"
      },
      "source": [
        "Trend analizinde Yue-Wang metodu kullanılarak trend eğimi ve  otokorelasyon dikkate alınarak oluşturulmuş zaman serisi dikkate alınarak  yeni bir seri oluşturulmuş ve bu seri tekrar teste sokulmuştur."
      ]
    },
    {
      "cell_type": "code",
      "metadata": {
        "id": "WmNJ-p1NYXPr"
      },
      "source": [
        "#  Mann-Kendal Testini içeren pymannkendal kütüphanesi kullanıldı.  \n",
        "# Kütüphane dökümanları incelendi. Formüllerin ders notundakilerle aynı olduğu görüldü.\n",
        "data=veri\n",
        "mk.yue_wang_modification_test(data,lag=1) #yue wang metoduna data sokuldu \n",
        "trend, h, p, z, Tau, s, var_s, slope, intercept= mk.yue_wang_modification_test(data,lag=1) # çıktı değerleri değişkene atandı.\n",
        "print(\"#################MANN-KENDAL TESTİ SONUÇ#################\")\n",
        "print(\"Trend:\",trend) #Trend \n",
        "print(\"Z değeri:\",z) #Z Değeri\n",
        "print(\"Tau değeri:\",Tau)\n",
        "print(\"sigma:\",np.sqrt(var_s))\n",
        "print(\"S:\",s)\n"
      ],
      "execution_count": null,
      "outputs": []
    },
    {
      "cell_type": "code",
      "metadata": {
        "id": "eIc_3tvmw79-"
      },
      "source": [
        ""
      ],
      "execution_count": null,
      "outputs": []
    },
    {
      "cell_type": "markdown",
      "metadata": {
        "id": "JtZ-BcrODoaW"
      },
      "source": [
        "## 2.2 Olasılık Dağılımlarının Parametreleri Ve Parametrelerin Tahmini"
      ]
    },
    {
      "cell_type": "markdown",
      "metadata": {
        "id": "JPynyg2HRtAF"
      },
      "source": [
        "L momentleri aşağıdaki gibi hesaplanmıştır."
      ]
    },
    {
      "cell_type": "code",
      "metadata": {
        "id": "CNsu0cS2pDFX"
      },
      "source": [
        "#İlk önce b0 b1 b2 ve b3 olasılık ağırlıklı momentleri asaıdaki gibi hesaplanır:\n",
        "def L_moment(Debi):\n",
        "  N=len(Debi)\n",
        "  b0=Debi.mean();\n",
        "\n",
        "  #b1 hesabı\n",
        "  lmo=0\n",
        "  i=1\n",
        "  for j in Debi:\n",
        "    lmo=lmo+(N-i)*j/(N*(N-1))\n",
        "    if i==N-1:\n",
        "      break\n",
        "    i=i+1\n",
        "  b1=lmo;\n",
        "\n",
        "  #b2 hesabı\n",
        "  lmo=0\n",
        "  i=1\n",
        "  for j in Debi:\n",
        "    lmo=lmo+(N-i)*(N-i-1)*j/(N*(N-1)*(N-2))\n",
        "    if i==N-2:\n",
        "      break\n",
        "    i=i+1\n",
        "  b2=lmo;\n",
        "\n",
        "  #b3 hesabı\n",
        "  lmo=0\n",
        "  i=1\n",
        "  for j in Debi:\n",
        "    lmo=lmo+(N-i)*(N-i-1)*(N-i-2)*j/(N*(N-1)*(N-2)*(N-3))\n",
        "    if i==N-3:\n",
        "      break\n",
        "    i=i+1\n",
        "  b3=lmo;\n",
        "\n",
        "\n",
        "\n",
        "  #L-momentleri olasılık ağırlıklı momentler kullanılarak aşağıdaki gibi hesaplanabilir:\n",
        "  L1=b0;\n",
        "  L2=2*b1-b0;\n",
        "  L3=6*b2-6*b1+b0;\n",
        "  L4=20*b3-30*b2+12*b1-b0;\n",
        "  Lcv = L2 / L1\n",
        "  Lcs = L3 / L2\n",
        "  Lkurt = L4 / L2\n",
        "  return [L1,L2,L3,L4]\n",
        "L1=L_moment(tablo['7 Günlük Min'])[0]\n",
        "L2=L_moment(tablo['7 Günlük Min'])[1]\n",
        "L3=L_moment(tablo['7 Günlük Min'])[2]\n",
        "L4=L_moment(tablo['7 Günlük Min'])[3]\n",
        "Lcv = L2 / L1\n",
        "Lcs = L3 / L2\n",
        "Lkurt = L4 / L2\n",
        "L_m = [L1, L2, L3, L4, Lcv, Lcs, Lkurt]\n",
        "L_m_name = [ \"L1\", \"L2\", \"L3\", \"L4\", \"Lcv\", \"Lcs\", \"Lkurt\"]\n",
        "L_moment = pd.DataFrame(data=L_m, index=L_m_name, columns=[\"L Momentleri\"])\n",
        "L_moment"
      ],
      "execution_count": null,
      "outputs": []
    },
    {
      "cell_type": "markdown",
      "metadata": {
        "id": "midATh1jFlyw"
      },
      "source": [
        " 2.2.1 Csx Hesaplanması"
      ]
    },
    {
      "cell_type": "code",
      "metadata": {
        "id": "ruSb-c-9eFan"
      },
      "source": [
        "Csx=tablo['7 Günlük Min'].skew()\n",
        "Csx"
      ],
      "execution_count": null,
      "outputs": []
    },
    {
      "cell_type": "markdown",
      "metadata": {
        "id": "BsYEtY7_aotv"
      },
      "source": [
        "## 2.3 Olasılık Dağılımlarının Çizilmesi"
      ]
    },
    {
      "cell_type": "code",
      "metadata": {
        "id": "kQSGAylGTnyc"
      },
      "source": [
        "#Olasılık dağılımlarını cizdirmek için fonksiyon yazıldı.\n",
        "def grafik(D):\n",
        "  plt.figure(figsize=(10,5))\n",
        "  plt.plot(df[\"T(Yıl)\"], df[D])\n",
        "  plt.title(D + \" Dağılımı Grafiği\")\n",
        "  plt.ylabel(\"Debi $m^3/s$\")\n",
        "  plt.xlabel(\"Dönüş Aralığı (Yıl)\")\n",
        "  return plt.show()"
      ],
      "execution_count": null,
      "outputs": []
    },
    {
      "cell_type": "code",
      "metadata": {
        "id": "xywFpWmlJXWp"
      },
      "source": [
        "#Tablo oluşturuldu\n",
        "df=pd.DataFrame()\n",
        "T=[2,5,10,25,50,100]\n",
        "df[\"T(Yıl)\"]=T\n",
        "df[\"P\"]=1/df[\"T(Yıl)\"]\n",
        "Z=[]\n",
        "for i in df[\"P\"]:\n",
        "  epsilon=epsilon=stats.norm.ppf(q=1-i, loc=0, scale=1)\n",
        "  Z.append(-1*epsilon)\n",
        "df[\"Z\"]=Z"
      ],
      "execution_count": null,
      "outputs": []
    },
    {
      "cell_type": "markdown",
      "metadata": {
        "id": "GgPmO50IlS3N"
      },
      "source": [
        "### 2 Parametreli Dağılımlar"
      ]
    },
    {
      "cell_type": "markdown",
      "metadata": {
        "id": "BWqBclWdlczQ"
      },
      "source": [
        "####Weibul (2P) Dağılımı"
      ]
    },
    {
      "cell_type": "code",
      "metadata": {
        "id": "HoqjNqYwcnO3"
      },
      "source": [
        "\n",
        "# İki Parametreli Dağılımlar\n",
        "\n",
        "# Weibull (2P)\n",
        "\n",
        "\n",
        "k_wei2 =-np.log2(1-L2/L1)\n",
        "alfa_wei2 =L1/math.gamma(1+k_wei2)\n",
        "wei2 = alfa_wei2*(-np.log(1-df[\"P\"]))**k_wei2\n",
        "df[\"Weibull_2p\"] = wei2\n",
        "grafik(\"Weibull_2p\")"
      ],
      "execution_count": null,
      "outputs": []
    },
    {
      "cell_type": "markdown",
      "metadata": {
        "id": "CIMRsLFnln_8"
      },
      "source": [
        "#### Lognormal Dağılım"
      ]
    },
    {
      "cell_type": "code",
      "metadata": {
        "id": "eCD1aRoyWjie"
      },
      "source": [
        "# Lognormal Dağılım\n",
        "log_mean = (np.log(veri)).mean()\n",
        "log_std = np.log(veri).std()\n",
        "log2 = np.exp((df[\"Z\"])*log_std+log_mean)\n",
        "\n",
        "df[\"Lognormal_2p\"]=log2\n",
        "grafik(\"Lognormal_2p\")"
      ],
      "execution_count": null,
      "outputs": []
    },
    {
      "cell_type": "markdown",
      "metadata": {
        "id": "3iRbsQN3l1pR"
      },
      "source": [
        "#### Üstel Dağılım"
      ]
    },
    {
      "cell_type": "code",
      "metadata": {
        "id": "WNM2eYC6dcBl"
      },
      "source": [
        "# üstel dağılım\n",
        "c = 2.42\n",
        "x_0 = 2.413502\n",
        "\n",
        "ustel = (df[\"P\"]**(1/c))*x_0\n",
        "df[\"Üstel\"] = ustel\n",
        "grafik(\"Üstel\")"
      ],
      "execution_count": null,
      "outputs": []
    },
    {
      "cell_type": "markdown",
      "metadata": {
        "id": "zkE53y-pl78Y"
      },
      "source": [
        "### 3 Parametreli Dağılımlar"
      ]
    },
    {
      "cell_type": "markdown",
      "metadata": {
        "id": "HclpEIvvmGQI"
      },
      "source": [
        "#### Lognormal (3P) Dağılım"
      ]
    },
    {
      "cell_type": "code",
      "metadata": {
        "id": "0cEG52S1jxqd"
      },
      "source": [
        "# Üç parametreli lognormal #sıkıntılı\n",
        "\n",
        "x_0_log3 = (max*min-median**2) /(max + min - 2*median)\n",
        "x_0_log3=0.31 #L momentleri yöntemi ile eşik hesaplandı.\n",
        "veri_log3 = np.log((veri - x_0_log3))\n",
        "log3_mean = veri_log3.mean()\n",
        "log3_std = veri_log3.std() \n",
        "Z=[]\n",
        "\n",
        "log3 =  np.exp((df[\"Z\"])*log3_std+log3_mean)+x_0_log3\n",
        "df['Lognormal_3p']=log3\n",
        "grafik('Lognormal_3p')"
      ],
      "execution_count": null,
      "outputs": []
    },
    {
      "cell_type": "markdown",
      "metadata": {
        "id": "X3mhduldmLSc"
      },
      "source": [
        "#### Weibull (3P) Dağılım"
      ]
    },
    {
      "cell_type": "code",
      "metadata": {
        "id": "o0a_epxxnL50"
      },
      "source": [
        "# Üç parametreli Weibull\n",
        "\n",
        "k_wei3 = 1-(np.log10((mean-min)/std))/(np.log10(0.07+1.73*np.log10(N)))\n",
        "u_wei3 = min-((mean-min)/(N**k_wei3-1))\n",
        "alfa_wei3 = (mean - u_wei3) /math.gamma(1+k_wei3)\n",
        "wei3 = alfa_wei3*(-np.log(1-df[\"P\"]))**k_wei3 + u_wei3\n",
        "df[\"Weibull_3p\"] = wei3\n",
        "grafik(\"Weibull_3p\")"
      ],
      "execution_count": null,
      "outputs": []
    },
    {
      "cell_type": "markdown",
      "metadata": {
        "id": "N1omUTCymXoP"
      },
      "source": [
        "#### Pearson Dağılımı"
      ]
    },
    {
      "cell_type": "code",
      "metadata": {
        "id": "AR7b99xtqNjU"
      },
      "source": [
        "# Pearson Tip III #Sıkıntı K_p\n",
        "alfa_pear = (2/Csx)**2\n",
        "beta_pear = ((std**2) / alfa_pear)**0.5\n",
        "x_0_pear = mean - alfa_pear*beta_pear\n",
        "def get_Kp(data,epsilon):\n",
        "        epsilon=epsilon=stats.norm.ppf(q=i, loc=0, scale=1)\n",
        "        csx=data.skew()\n",
        "        Kp=2/csx*(1+csx*epsilon/6-csx**2/36)**3-2/Csx\n",
        "        return Kp \n",
        "K_p=[]\n",
        "for i in df[\"P\"]:\n",
        "  kp=get_Kp(veri,i)\n",
        "  K_p.append(kp)\n",
        "K_p=pd.Series(K_p)\n",
        "pear = mean + std*K_p\n",
        "df[\"Pearson\"] = pear\n",
        "grafik(\"Pearson\")"
      ],
      "execution_count": null,
      "outputs": []
    },
    {
      "cell_type": "markdown",
      "metadata": {
        "id": "7CHUzgPYmc6u"
      },
      "source": [
        "#### Log-Pearson Dağılımı"
      ]
    },
    {
      "cell_type": "code",
      "metadata": {
        "id": "6OIf2w7-aRyi"
      },
      "source": [
        "# Log-Pearson Tip III #Sıkıntı\n",
        "\n",
        "log_mean=np.log(mean)\n",
        "log_std=np.log(std)\n",
        "log_pear = np.exp(log_mean-log_std*K_p)\n",
        "\n",
        "df[\"Log-Pearson\"] = log_pear\n",
        "grafik(\"Log-Pearson\")"
      ],
      "execution_count": null,
      "outputs": []
    },
    {
      "cell_type": "markdown",
      "metadata": {
        "id": "JZWlOdyymllQ"
      },
      "source": [
        "#### GEV Dağılımı"
      ]
    },
    {
      "cell_type": "code",
      "metadata": {
        "id": "GFhTGOV5Xo43"
      },
      "source": [
        "# GEV\n",
        "\n",
        "k_gev = 5.153*(((L3+3*L2)/(2*L2))**2) - 11.73*((L3+3*L2)/(2*L2)) + 6.26\n",
        "alfa_gev = (k_gev*L2)/((1-2**(-k_gev))*math.gamma(1+k_gev))\n",
        "u_gev = ((alfa_gev/k_gev) * (math.gamma(1+k_gev)-1)) - L1\n",
        "\n",
        "gev = abs(u_gev) + alfa_gev*((((-np.log(1-df[\"P\"]))**k_gev)-1)/k_gev)\n",
        "\n",
        "df[\"GEV\"] = gev\n",
        "\n",
        "grafik(\"GEV\")"
      ],
      "execution_count": null,
      "outputs": []
    },
    {
      "cell_type": "markdown",
      "metadata": {
        "id": "Ton-RNuGmxE0"
      },
      "source": [
        "#### Lojistik Dağılımı"
      ]
    },
    {
      "cell_type": "code",
      "metadata": {
        "id": "1NaeIH_vX2V9"
      },
      "source": [
        "# Logistik\n",
        "\n",
        "pi = np.pi\n",
        "k_lgs = - L3/L2\n",
        "sp = np.sin(pi*k_lgs)\n",
        "u_lgs = median\n",
        "alfa_lgs = ((L2/L1)*k_lgs*sp)/(pi*k_lgs*(k_lgs+L2/L1)-(L2/L1)*sp)\n",
        "\n",
        "lgs = (1-np.exp(k_lgs*np.log(1/df[\"P\"]-1)))/(alfa_lgs/k_lgs) + u_lgs\n",
        "\n",
        "df[\"Lojistik\"] = lgs\n",
        "\n",
        "grafik(\"Lojistik\")"
      ],
      "execution_count": null,
      "outputs": []
    },
    {
      "cell_type": "markdown",
      "metadata": {
        "id": "juw8c3mxVHTE"
      },
      "source": [
        "Her bir dönüş aralığı için farklı dağılımlarla hesaplanan debi değerleri aşağıdaki gibidir."
      ]
    },
    {
      "cell_type": "markdown",
      "metadata": {
        "id": "Phtqz6C8azDt"
      },
      "source": [
        "## RUN Analizi  "
      ]
    },
    {
      "cell_type": "code",
      "metadata": {
        "id": "PE_DiNGuP3td"
      },
      "source": [
        "plt.figure(figsize=(10,5))\n",
        "med_line = np.array([mean for i in np.arange(len(tablo['Yıl']))])\n",
        "plt.plot(tablo['Yıl'],veri,label=\"7 Günlük Min \")\n",
        "plt.plot(tablo['Yıl'], med_line,label=\"Ortalama\")\n",
        "plt.fill_between(tablo['Yıl'], veri, med_line,\n",
        "                 where=(med_line >= veri),\n",
        "                 alpha=0.8, color='orange', interpolate=True)\n",
        "\n",
        "plt.ylabel(\"Debi ($m^3/s$)\")\n",
        "plt.xlabel(\"Dönüş Aralığı (Yıl)\")\n",
        "plt.legend()"
      ],
      "execution_count": null,
      "outputs": []
    },
    {
      "cell_type": "code",
      "metadata": {
        "id": "D-px4VBMbbHl"
      },
      "source": [
        "rho_1=0.507 #1 zaman aralıklı otokorelasyon"
      ],
      "execution_count": 26,
      "outputs": []
    },
    {
      "cell_type": "markdown",
      "metadata": {
        "id": "RaBnDDhjiAup"
      },
      "source": [
        "**$\\rho_1$=0.507 ve q=0.1, 0.2, 0.3, 0.4, 0.5 değerleri için s değerleri okunmuştur: s=0.326, 0.435, 0.524, 0.598, 0.667**"
      ]
    },
    {
      "cell_type": "code",
      "metadata": {
        "id": "8jkx-i7rotg2"
      },
      "source": [
        "def P(l): #Girilen L run uzunluğunun olasılığını verir. Ders Notunda Denklem 2.84\n",
        "  p=np.exp(-N*df['q']*(1-df['s'])*df['s']**(l-1))*(np.exp(N*df['q']*((1-df['s'])**2)*df['s']**(l-1))-1)\n",
        "  return p"
      ],
      "execution_count": 27,
      "outputs": []
    },
    {
      "cell_type": "code",
      "metadata": {
        "id": "J3A032KZb72T"
      },
      "source": [
        "df=pd.DataFrame()\n",
        "q=[0.1,0.2,0.3,0.4,0.5]\n",
        "s=[0.326,0.435,0.524,0.598,0.667] #1 aralıklı korelasyon ve q değerleri ile tablodan okundu.\n",
        "df['q']=q\n",
        "df['s']=s\n",
        "df[\"x0\"] = [(mean - std), (mean-0.84*std), (mean-0.52*std), (mean-0.25*std), mean]\n",
        "df[\"L_max\"]=[2,5,6,6,6]\n",
        "df[\"P(L=2)\"]=P(2)\n",
        "df[\"P(L=5)\"]=P(5)\n",
        "df[\"P(L=6)\"]=P(6)\n",
        "df[\"T\"] = (1-df[\"s\"]**df[\"L_max\"])/((1-df[\"s\"])*df[\"q\"]*df[\"s\"]**(df[\"L_max\"]-1)) #Dönüş aralığını veren fonksiyon."
      ],
      "execution_count": 32,
      "outputs": []
    },
    {
      "cell_type": "markdown",
      "metadata": {
        "id": "12qelWVNWOWJ"
      },
      "source": [
        " Her bir q ve s için x0 eşiği belirlenmiştir. Her bir x0 eşik değeri seçildiğinde maksimum run uzunlukları(Lmax) tespit edilmiş ve yukarda elde edilen fonksiyonla olasılıklar hesaplanmıştır ve dönüş aralıkları(T) yukardaki denklemle belirlenmiştir. "
      ]
    },
    {
      "cell_type": "code",
      "metadata": {
        "id": "5ApzInhhzn-w",
        "colab": {
          "base_uri": "https://localhost:8080/",
          "height": 207
        },
        "outputId": "f85ca0ef-1138-44e0-cc8d-d9c6be55dc72"
      },
      "source": [
        "df"
      ],
      "execution_count": 33,
      "outputs": [
        {
          "output_type": "execute_result",
          "data": {
            "text/html": [
              "<div>\n",
              "<style scoped>\n",
              "    .dataframe tbody tr th:only-of-type {\n",
              "        vertical-align: middle;\n",
              "    }\n",
              "\n",
              "    .dataframe tbody tr th {\n",
              "        vertical-align: top;\n",
              "    }\n",
              "\n",
              "    .dataframe thead th {\n",
              "        text-align: right;\n",
              "    }\n",
              "</style>\n",
              "<table border=\"1\" class=\"dataframe\">\n",
              "  <thead>\n",
              "    <tr style=\"text-align: right;\">\n",
              "      <th></th>\n",
              "      <th>q</th>\n",
              "      <th>s</th>\n",
              "      <th>x0</th>\n",
              "      <th>L_max</th>\n",
              "      <th>P(L=2)</th>\n",
              "      <th>P(L=5)</th>\n",
              "      <th>P(L=6)</th>\n",
              "      <th>T</th>\n",
              "    </tr>\n",
              "  </thead>\n",
              "  <tbody>\n",
              "    <tr>\n",
              "      <th>0</th>\n",
              "      <td>0.1</td>\n",
              "      <td>0.326</td>\n",
              "      <td>1.187102</td>\n",
              "      <td>2</td>\n",
              "      <td>0.258695</td>\n",
              "      <td>0.012666</td>\n",
              "      <td>0.004164</td>\n",
              "      <td>40.674847</td>\n",
              "    </tr>\n",
              "    <tr>\n",
              "      <th>1</th>\n",
              "      <td>0.2</td>\n",
              "      <td>0.435</td>\n",
              "      <td>1.270421</td>\n",
              "      <td>5</td>\n",
              "      <td>0.293305</td>\n",
              "      <td>0.053157</td>\n",
              "      <td>0.024089</td>\n",
              "      <td>243.302670</td>\n",
              "    </tr>\n",
              "    <tr>\n",
              "      <th>2</th>\n",
              "      <td>0.3</td>\n",
              "      <td>0.524</td>\n",
              "      <td>1.437059</td>\n",
              "      <td>6</td>\n",
              "      <td>0.221204</td>\n",
              "      <td>0.104430</td>\n",
              "      <td>0.060303</td>\n",
              "      <td>173.592415</td>\n",
              "    </tr>\n",
              "    <tr>\n",
              "      <th>3</th>\n",
              "      <td>0.4</td>\n",
              "      <td>0.598</td>\n",
              "      <td>1.577660</td>\n",
              "      <td>6</td>\n",
              "      <td>0.147145</td>\n",
              "      <td>0.137291</td>\n",
              "      <td>0.096730</td>\n",
              "      <td>77.603092</td>\n",
              "    </tr>\n",
              "    <tr>\n",
              "      <th>4</th>\n",
              "      <td>0.5</td>\n",
              "      <td>0.667</td>\n",
              "      <td>1.707846</td>\n",
              "      <td>6</td>\n",
              "      <td>0.094683</td>\n",
              "      <td>0.138495</td>\n",
              "      <td>0.115909</td>\n",
              "      <td>41.488253</td>\n",
              "    </tr>\n",
              "  </tbody>\n",
              "</table>\n",
              "</div>"
            ],
            "text/plain": [
              "     q      s        x0  L_max    P(L=2)    P(L=5)    P(L=6)           T\n",
              "0  0.1  0.326  1.187102      2  0.258695  0.012666  0.004164   40.674847\n",
              "1  0.2  0.435  1.270421      5  0.293305  0.053157  0.024089  243.302670\n",
              "2  0.3  0.524  1.437059      6  0.221204  0.104430  0.060303  173.592415\n",
              "3  0.4  0.598  1.577660      6  0.147145  0.137291  0.096730   77.603092\n",
              "4  0.5  0.667  1.707846      6  0.094683  0.138495  0.115909   41.488253"
            ]
          },
          "metadata": {
            "tags": []
          },
          "execution_count": 33
        }
      ]
    },
    {
      "cell_type": "markdown",
      "metadata": {
        "id": "x-gddVeD5RkQ"
      },
      "source": [
        "Run Toplamını dağılımının ortalaması ve varyansı(E_D ve Var_D) ders notuna göre hesaplanmıştır. "
      ]
    },
    {
      "cell_type": "code",
      "metadata": {
        "id": "gRGoQ03bhMCq"
      },
      "source": [
        "pi2 = 2/np.pi #işlem kolaylığı için formüldeki terim bir değişkene atandı\n",
        "df[\"Var_D\"] = ((1-pi2 + df[\"s\"]*pi2/(1-df[\"s\"]))/(1-df[\"s\"])) + ((1-pi2 )*2*rho_1 / (1-rho_1))*(df[\"s\"]/(1-df[\"s\"]) + (1-df[\"s\"]/((1-rho_1)*(1-df[\"s\"]*rho_1)))) #Run Toplamının Varyansı hesaplandı.\n",
        "df[\"E_D\"] = ((2/np.pi)**0.5)/(1-df[\"s\"])\n"
      ],
      "execution_count": 34,
      "outputs": []
    },
    {
      "cell_type": "code",
      "metadata": {
        "colab": {
          "base_uri": "https://localhost:8080/",
          "height": 207
        },
        "id": "takPI7kbYWYp",
        "outputId": "edc49001-c9fc-490b-9809-efe6acb43fe5"
      },
      "source": [
        "df"
      ],
      "execution_count": 35,
      "outputs": [
        {
          "output_type": "execute_result",
          "data": {
            "text/html": [
              "<div>\n",
              "<style scoped>\n",
              "    .dataframe tbody tr th:only-of-type {\n",
              "        vertical-align: middle;\n",
              "    }\n",
              "\n",
              "    .dataframe tbody tr th {\n",
              "        vertical-align: top;\n",
              "    }\n",
              "\n",
              "    .dataframe thead th {\n",
              "        text-align: right;\n",
              "    }\n",
              "</style>\n",
              "<table border=\"1\" class=\"dataframe\">\n",
              "  <thead>\n",
              "    <tr style=\"text-align: right;\">\n",
              "      <th></th>\n",
              "      <th>q</th>\n",
              "      <th>s</th>\n",
              "      <th>x0</th>\n",
              "      <th>L_max</th>\n",
              "      <th>P(L=2)</th>\n",
              "      <th>P(L=5)</th>\n",
              "      <th>P(L=6)</th>\n",
              "      <th>T</th>\n",
              "      <th>Var_D</th>\n",
              "      <th>E_D</th>\n",
              "    </tr>\n",
              "  </thead>\n",
              "  <tbody>\n",
              "    <tr>\n",
              "      <th>0</th>\n",
              "      <td>0.1</td>\n",
              "      <td>0.326</td>\n",
              "      <td>1.187102</td>\n",
              "      <td>2</td>\n",
              "      <td>0.258695</td>\n",
              "      <td>0.012666</td>\n",
              "      <td>0.004164</td>\n",
              "      <td>40.674847</td>\n",
              "      <td>1.512811</td>\n",
              "      <td>1.183805</td>\n",
              "    </tr>\n",
              "    <tr>\n",
              "      <th>1</th>\n",
              "      <td>0.2</td>\n",
              "      <td>0.435</td>\n",
              "      <td>1.270421</td>\n",
              "      <td>5</td>\n",
              "      <td>0.293305</td>\n",
              "      <td>0.053157</td>\n",
              "      <td>0.024089</td>\n",
              "      <td>243.302670</td>\n",
              "      <td>1.987422</td>\n",
              "      <td>1.412185</td>\n",
              "    </tr>\n",
              "    <tr>\n",
              "      <th>2</th>\n",
              "      <td>0.3</td>\n",
              "      <td>0.524</td>\n",
              "      <td>1.437059</td>\n",
              "      <td>6</td>\n",
              "      <td>0.221204</td>\n",
              "      <td>0.104430</td>\n",
              "      <td>0.060303</td>\n",
              "      <td>173.592415</td>\n",
              "      <td>2.724080</td>\n",
              "      <td>1.676228</td>\n",
              "    </tr>\n",
              "    <tr>\n",
              "      <th>3</th>\n",
              "      <td>0.4</td>\n",
              "      <td>0.598</td>\n",
              "      <td>1.577660</td>\n",
              "      <td>6</td>\n",
              "      <td>0.147145</td>\n",
              "      <td>0.137291</td>\n",
              "      <td>0.096730</td>\n",
              "      <td>77.603092</td>\n",
              "      <td>3.817844</td>\n",
              "      <td>1.984787</td>\n",
              "    </tr>\n",
              "    <tr>\n",
              "      <th>4</th>\n",
              "      <td>0.5</td>\n",
              "      <td>0.667</td>\n",
              "      <td>1.707846</td>\n",
              "      <td>6</td>\n",
              "      <td>0.094683</td>\n",
              "      <td>0.138495</td>\n",
              "      <td>0.115909</td>\n",
              "      <td>41.488253</td>\n",
              "      <td>5.637094</td>\n",
              "      <td>2.396050</td>\n",
              "    </tr>\n",
              "  </tbody>\n",
              "</table>\n",
              "</div>"
            ],
            "text/plain": [
              "     q      s        x0  L_max  ...    P(L=6)           T     Var_D       E_D\n",
              "0  0.1  0.326  1.187102      2  ...  0.004164   40.674847  1.512811  1.183805\n",
              "1  0.2  0.435  1.270421      5  ...  0.024089  243.302670  1.987422  1.412185\n",
              "2  0.3  0.524  1.437059      6  ...  0.060303  173.592415  2.724080  1.676228\n",
              "3  0.4  0.598  1.577660      6  ...  0.096730   77.603092  3.817844  1.984787\n",
              "4  0.5  0.667  1.707846      6  ...  0.115909   41.488253  5.637094  2.396050\n",
              "\n",
              "[5 rows x 10 columns]"
            ]
          },
          "metadata": {
            "tags": []
          },
          "execution_count": 35
        }
      ]
    },
    {
      "cell_type": "code",
      "metadata": {
        "id": "WrVaN81zYepq"
      },
      "source": [
        ""
      ],
      "execution_count": null,
      "outputs": []
    }
  ]
}